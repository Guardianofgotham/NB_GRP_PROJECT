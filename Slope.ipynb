{
 "cells": [
  {
   "cell_type": "code",
   "execution_count": 17,
   "metadata": {},
   "outputs": [],
   "source": [
    "\"\"\"\n",
    "\tThis file is responsible for calculating slope of best-fit \n",
    "\tline for stdev vs degree \n",
    "\"\"\"\n",
    "# Imports here\n",
    "import os\n",
    "from scipy.stats import linregress\n",
    "import math"
   ]
  },
  {
   "cell_type": "code",
   "execution_count": 18,
   "metadata": {},
   "outputs": [],
   "source": [
    "# Constants here\n",
    "INPUT_DIR = \"outputs\"\n",
    "ALL_FILES = os.listdir(INPUT_DIR)\n",
    "STDEV_FILES = sorted(list(filter(lambda i: \"stdev\" in i, ALL_FILES)))\n",
    "FILE_NAME_PLACE_HOLDER = \"FILE_NAME_PLACE_HOLDER\"\n",
    "PATH_TO_FILE = f\"{INPUT_DIR}/{FILE_NAME_PLACE_HOLDER}\""
   ]
  },
  {
   "cell_type": "code",
   "execution_count": 19,
   "metadata": {},
   "outputs": [],
   "source": [
    "\"\"\"\n",
    "a = [15, 12, 8, 8, 7, 7, 7, 6, 5, 3]\n",
    "b = [10, 25, 17, 11, 13, 17, 20, 13, 9, 15]\n",
    "\n",
    "linregress(a, b)\n",
    "\"\"\"\n",
    "# Functions here\n",
    "\n",
    "def calculate_slope(data_points):\n",
    "\tdata_points = list(filter(lambda x: x[0]!=0, data_points))\n",
    "\tX = list(map(lambda x: math.log(x[0]), data_points)) # Degree\n",
    "\tY = list(map(lambda x: x[1], data_points)) # stdev\n",
    "\treturn linregress(X, Y)\n",
    "\n",
    "def get_file_slope(path):\n",
    "\tfile = open(path, \"r\")\n",
    "\tcontent = list(map(lambda x: x.split(\", \"), file.readlines()[1:]))\n",
    "\tfile.close()\n",
    "\tdata_points = list(map(lambda x: [float(x[0]), float(x[1])], content))\n",
    "\tslope, intercept, rvalue, pvalue, stderr = calculate_slope(data_points)\n",
    "\treturn slope\n",
    "\t\n"
   ]
  },
  {
   "cell_type": "code",
   "execution_count": 20,
   "metadata": {},
   "outputs": [
    {
     "name": "stdout",
     "output_type": "stream",
     "text": [
      "Core.tab.gml.Random.BA.stdev.csv 0.000135957453102996\n",
      "Core.tab.gml.Random.DM.stdev.csv 2.0666241288581673e-05\n",
      "Core.tab.gml.Random.EBA.stdev.csv 1.6957288166905262e-05\n",
      "Core.tab.gml.Random.SV.stdev.csv 0.00037984096819182884\n",
      "Core.tab.gml.betweenness.stdev.csv 0.0011199751304936884\n",
      "Full.tab.gml.Random.BA.stdev.csv 0.00010448493715630515\n",
      "Full.tab.gml.Random.DM.stdev.csv 3.927311786252494e-05\n",
      "Full.tab.gml.Random.EBA.stdev.csv 0.00018517078200763849\n",
      "Full.tab.gml.Random.SV.stdev.csv 9.772529513270949e-06\n",
      "Full.tab.gml.betweenness.stdev.csv 8.592623229475676e-05\n"
     ]
    }
   ],
   "source": [
    "if __name__ == \"__main__\":\n",
    "\tfor filename in STDEV_FILES:\n",
    "\t\tpath_to_curr_file = PATH_TO_FILE.replace(FILE_NAME_PLACE_HOLDER, filename)\n",
    "\t\tslope = get_file_slope(path_to_curr_file)\n",
    "\t\tprint(filename, abs(slope))\n"
   ]
  }
 ],
 "metadata": {
  "interpreter": {
   "hash": "11908e90314f1fc5384d47100278726cec02fa5707b2d96a8fa6a39a882f00ac"
  },
  "kernelspec": {
   "display_name": "Python 3.8.8 64-bit ('base': conda)",
   "language": "python",
   "name": "python3"
  },
  "language_info": {
   "codemirror_mode": {
    "name": "ipython",
    "version": 3
   },
   "file_extension": ".py",
   "mimetype": "text/x-python",
   "name": "python",
   "nbconvert_exporter": "python",
   "pygments_lexer": "ipython3",
   "version": "3.8.8"
  },
  "orig_nbformat": 4
 },
 "nbformat": 4,
 "nbformat_minor": 2
}
