{
 "cells": [
  {
   "cell_type": "code",
   "execution_count": 9,
   "metadata": {},
   "outputs": [],
   "source": [
    "\"\"\"\n",
    "\tThis file is responsible for detecting essential proteins\n",
    "\"\"\"\n",
    "# Imports here\n",
    "import os"
   ]
  },
  {
   "cell_type": "code",
   "execution_count": 10,
   "metadata": {},
   "outputs": [],
   "source": [
    "# Constants here\n",
    "GENES_ID_FILE = [\"Full.GID.txt\", \"Core.GID.txt\"]\n",
    "FILENAME_PLACEHOLDER = \"FILENAME_PLACEHOLDER\"\n",
    "PATH_TO_FILE = f\"outputs/{FILENAME_PLACEHOLDER}\"\n",
    "\n",
    "DEG_DATASET_FILE = \"DEG.annotations.txt\""
   ]
  },
  {
   "cell_type": "code",
   "execution_count": 11,
   "metadata": {},
   "outputs": [],
   "source": [
    "# Functions here"
   ]
  },
  {
   "cell_type": "code",
   "execution_count": 12,
   "metadata": {},
   "outputs": [],
   "source": [
    "# Driver code\n",
    "if __name__ == '__main__':\n",
    "\n",
    "\tdataset = open(DEG_DATASET_FILE).read()\n",
    "\n",
    "\tfor filename in GENES_ID_FILE:\n",
    "\t\tfile_path = PATH_TO_FILE.replace(FILENAME_PLACEHOLDER, filename)\n",
    "\t\tfile = open(file_path)\n",
    "\t\tGIDs = file.readlines()\n",
    "\t\tfile.close()\n",
    "\t\tessential_nodes_id = []\n",
    "\t\tfor gid_index in range(len(GIDs)):\n",
    "\t\t\tif GIDs[gid_index] in dataset:\n",
    "\t\t\t\tessential_nodes_id.append(gid_index)\n",
    "\t\t\n",
    "\t\toutput_string = \", \".join(essential_nodes_id)\n",
    "\n",
    "\t\tfile_path = PATH_TO_FILE.replace(FILENAME_PLACEHOLDER, filename+\".essential\")\n",
    "\t\tfile = open(file_path, \"w+\")\n",
    "\t\tfile.write(output_string)\n",
    "\t\tfile.close()\n",
    "\n",
    "\t\t"
   ]
  }
 ],
 "metadata": {
  "interpreter": {
   "hash": "11908e90314f1fc5384d47100278726cec02fa5707b2d96a8fa6a39a882f00ac"
  },
  "kernelspec": {
   "display_name": "Python 3.8.8 64-bit ('base': conda)",
   "language": "python",
   "name": "python3"
  },
  "language_info": {
   "codemirror_mode": {
    "name": "ipython",
    "version": 3
   },
   "file_extension": ".py",
   "mimetype": "text/x-python",
   "name": "python",
   "nbconvert_exporter": "python",
   "pygments_lexer": "ipython3",
   "version": "3.8.8"
  },
  "orig_nbformat": 4
 },
 "nbformat": 4,
 "nbformat_minor": 2
}
