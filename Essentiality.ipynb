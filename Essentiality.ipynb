{
 "cells": [
  {
   "cell_type": "code",
   "execution_count": null,
   "metadata": {},
   "outputs": [],
   "source": [
    "\"\"\"\n",
    "\tThis file is responsible for detecting essential proteins\n",
    "\"\"\"\n",
    "# Imports here\n",
    "import os"
   ]
  },
  {
   "cell_type": "code",
   "execution_count": null,
   "metadata": {},
   "outputs": [],
   "source": [
    "# Constants here\n",
    "GENES_ID_FILE = [\"Full.GID.txt\", \"Core.GID.txt\"]\n",
    "FILENAME_PLACEHOLDER = \"FILENAME_PLACEHOLDER\"\n",
    "PATH_TO_FILE = \"outputs/{FILENAME_PLACEHOLDER}\"\n",
    "\n",
    "DEG_DATASET_FILE = \"DEG.annotations.txt\""
   ]
  },
  {
   "cell_type": "code",
   "execution_count": null,
   "metadata": {},
   "outputs": [],
   "source": [
    "# Functions here"
   ]
  },
  {
   "cell_type": "code",
   "execution_count": null,
   "metadata": {},
   "outputs": [],
   "source": [
    "# Driver code\n",
    "if __name__ == '__main__':\n",
    "\t"
   ]
  }
 ],
 "metadata": {
  "language_info": {
   "name": "python"
  },
  "orig_nbformat": 4
 },
 "nbformat": 4,
 "nbformat_minor": 2
}
