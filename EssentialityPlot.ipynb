{
 "cells": [
  {
   "cell_type": "code",
   "execution_count": 148,
   "id": "44178e1d",
   "metadata": {},
   "outputs": [],
   "source": [
    "import networkx as nx\n",
    "import csv\n",
    "import os\n",
    "import math\n",
    "import matplotlib.pyplot as plt"
   ]
  },
  {
   "cell_type": "code",
   "execution_count": null,
   "id": "f6902be9",
   "metadata": {},
   "outputs": [],
   "source": [
    "'''\n",
    "Finding essential genes:\n",
    "1) DEG.annotations.txt and Core.tab.txt are starter files\n",
    "2) Now extract all essential gene names from DEG.annotations.txt\n",
    "3) Convert gene names to swiss prot IDs. Extract all swiss prot IDs from our network\n",
    "4) Check which of the genes in yeast PIN are present in all essential genes to get essentail genes in the network.\n",
    "'''"
   ]
  },
  {
   "cell_type": "code",
   "execution_count": 149,
   "id": "bf921cf1",
   "metadata": {},
   "outputs": [],
   "source": [
    "essential_swp=[]\n",
    "with open (\"Essential_SwissProt.txt\") as fr:\n",
    "    for line in fr:\n",
    "        line = line.replace('\\n','')\n",
    "        essential_swp.append(line)\n",
    "\n",
    "# print(essential_swp)\n",
    "    "
   ]
  },
  {
   "cell_type": "code",
   "execution_count": 150,
   "id": "10305cb9",
   "metadata": {},
   "outputs": [],
   "source": [
    "G=nx.read_gml('graphs/Core_swp.tab.gml')"
   ]
  },
  {
   "cell_type": "code",
   "execution_count": 151,
   "id": "38b3b656",
   "metadata": {},
   "outputs": [
    {
     "name": "stdout",
     "output_type": "stream",
     "text": [
      "923\n"
     ]
    }
   ],
   "source": [
    "G.nodes[str(0)]['pid']\n",
    "nodes_es=[]\n",
    "btwn_es=[]\n",
    "deg_es=[]\n",
    "for i in G.nodes():\n",
    "    if(G.nodes[i]['pid'][4:] in essential_swp):\n",
    "        nodes_es.append(i)\n",
    "print(len(nodes_es))"
   ]
  },
  {
   "cell_type": "code",
   "execution_count": 152,
   "id": "3d95c2d5",
   "metadata": {},
   "outputs": [],
   "source": [
    "btwn=nx.betweenness_centrality(graph,normalized = True)\n",
    "\n",
    "# print(btwn)"
   ]
  },
  {
   "cell_type": "code",
   "execution_count": 153,
   "id": "7cfd495b",
   "metadata": {},
   "outputs": [
    {
     "data": {
      "text/plain": [
       "61"
      ]
     },
     "execution_count": 153,
     "metadata": {},
     "output_type": "execute_result"
    }
   ],
   "source": [
    "res_full = [btwn.get(str(ele)) for ele in range(len(btwn))]\n",
    "  \n",
    "# printing result \n",
    "for i in range(len(res_full)):\n",
    "    res_full[i]=math.ceil(res_full[i]*1000*(62/56)) #Normalize Betweeness Values\n",
    "max(res_full)"
   ]
  },
  {
   "cell_type": "code",
   "execution_count": 154,
   "id": "63a724a3",
   "metadata": {},
   "outputs": [
    {
     "name": "stdout",
     "output_type": "stream",
     "text": [
      "923\n"
     ]
    }
   ],
   "source": [
    "res_es=[btwn.get(i) for i in nodes_es]\n",
    "print(len(res_es))\n",
    "for i in range(len(res_es)):\n",
    "    res_es[i]=math.ceil(res_es[i]*1000*(62/56))"
   ]
  },
  {
   "cell_type": "code",
   "execution_count": 155,
   "id": "0bcadd64",
   "metadata": {},
   "outputs": [
    {
     "data": {
      "text/plain": [
       "61"
      ]
     },
     "execution_count": 155,
     "metadata": {},
     "output_type": "execute_result"
    }
   ],
   "source": [
    "max(res_es)"
   ]
  },
  {
   "cell_type": "code",
   "execution_count": 156,
   "id": "05c94fda",
   "metadata": {},
   "outputs": [],
   "source": [
    "freq_full=[res_full.count(i) for i in range(max(res_full)+1)]\n",
    "for i in range(len(freq_full)):\n",
    "    if(freq_full[i]==0):\n",
    "        freq_full[i]+=1\n",
    "# freq_full"
   ]
  },
  {
   "cell_type": "code",
   "execution_count": 157,
   "id": "584ab8cd",
   "metadata": {},
   "outputs": [],
   "source": [
    "freq_es=[res_es.count(i) for i in range(max(res_es)+1)]\n",
    "# freq_es"
   ]
  },
  {
   "cell_type": "code",
   "execution_count": 158,
   "id": "7d54de0b",
   "metadata": {},
   "outputs": [
    {
     "name": "stdout",
     "output_type": "stream",
     "text": [
      "[1, 764, 424, 320, 210, 140, 130, 103, 79, 67, 49, 55, 36, 37, 27, 18, 20, 19, 20, 18, 7, 9, 8, 5, 3, 5, 5, 5, 2, 2, 3, 1, 5, 1, 2, 1, 2, 2, 1, 1, 1, 1, 1, 1, 1, 1, 1, 1, 1, 1, 1, 3, 1, 1, 1, 1, 1, 1, 1, 1, 1, 1]\n"
     ]
    }
   ],
   "source": [
    "# deg=graph.degree()\n",
    "deg=nx.degree_histogram(G)\n",
    "\n",
    "for i in range(len(deg)):\n",
    "    if(deg[i]==0):\n",
    "        deg[i]+=1\n",
    "print(deg)"
   ]
  },
  {
   "cell_type": "code",
   "execution_count": 159,
   "id": "09437ba9",
   "metadata": {},
   "outputs": [],
   "source": [
    "deg_list=[]\n",
    "degree_g=G.degree()\n",
    "for i in nodes_es:\n",
    "    deg_list.append(degree_g[i])"
   ]
  },
  {
   "cell_type": "code",
   "execution_count": 160,
   "id": "74836260",
   "metadata": {},
   "outputs": [],
   "source": [
    "# max(deg_list)\n",
    "deg_freq=[]\n",
    "for i in range(max(deg_list)+1):\n",
    "    deg_freq.append(deg_list.count(i))"
   ]
  },
  {
   "cell_type": "code",
   "execution_count": 161,
   "id": "7b4c448d",
   "metadata": {},
   "outputs": [],
   "source": [
    "percentage_connectivity=[(deg_freq[i]/deg[i]) * 100 for i in range(len(deg))]\n",
    "# percentage_connectivity\n",
    "def zero_to_nan(values):\n",
    "    \"\"\"Replace every 0 with 'nan' and return a copy.\"\"\"\n",
    "    return [float('nan') if x==0 else x for x in values]\n",
    "\n",
    "percentage_connectivity=zero_to_nan(percentage_connectivity)"
   ]
  },
  {
   "cell_type": "code",
   "execution_count": 162,
   "id": "736070e2",
   "metadata": {},
   "outputs": [
    {
     "data": {
      "image/png": "[encoded data removed]",
      "text/plain": [
       "<Figure size 432x288 with 1 Axes>"
      ]
     },
     "metadata": {
      "needs_background": "light"
     },
     "output_type": "display_data"
    }
   ],
   "source": [
    "percentage_betweenness=[(freq_es[i]/freq_full[i]) * 100 for i in range(len(freq_full))]\n",
    "percentage_betweenness=zero_to_nan(percentage_betweenness)\n",
    "plt.plot(percentage_connectivity,'ro',label='Degree')\n",
    "plt.plot(percentage_betweenness,'o',label='Betweenness')\n",
    "plt.xlabel('Degree/scaled betweenness')\n",
    "plt.ylabel('Percentage of essential proteins')\n",
    "plt.title('Essentiality')\n",
    "plt.legend()\n",
    "plt.show()"
   ]
  }
 ],
 "metadata": {
  "kernelspec": {
   "display_name": "Python 3 (ipykernel)",
   "language": "python",
   "name": "python3"
  },
  "language_info": {
   "codemirror_mode": {
    "name": "ipython",
    "version": 3
   },
   "file_extension": ".py",
   "mimetype": "text/x-python",
   "name": "python",
   "nbconvert_exporter": "python",
   "pygments_lexer": "ipython3",
   "version": "3.9.0"
  }
 },
 "nbformat": 4,
 "nbformat_minor": 5
}
