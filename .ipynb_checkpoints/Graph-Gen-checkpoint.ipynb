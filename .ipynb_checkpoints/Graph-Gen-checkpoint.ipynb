{
 "cells": [
  {
   "cell_type": "code",
   "execution_count": 1,
   "metadata": {},
   "outputs": [],
   "source": [
    "\"\"\"\n",
    "This file will create processed graphs from data\n",
    "and store them in graphs directory output format will be gml\n",
    "\"\"\"\n",
    "\n",
    "# data file format\n",
    "\"\"\"\n",
    "\tedge-id(0)\t\n",
    "\tnode_1_id(1)\t\n",
    "\tempty(2)\n",
    "\tnode_1_swissprot_id(3)\t\t\n",
    "\tnode_1_PIR_id(4)\t\n",
    "\tnode_1_GI_code(5)\t\t\n",
    "\tnode_2_id(6)\t\n",
    "\tempty(7)\n",
    "\tnode_2_swissprot_id(8)\t\t\n",
    "\tnode_2_PIR_id(9)\t\n",
    "\tnode_2_GI_code(10)\n",
    "\"\"\"\n",
    "\n",
    "# Import here\n",
    "import networkx as nx\n",
    "import csv\n",
    "import os"
   ]
  },
  {
   "cell_type": "code",
   "execution_count": 2,
   "metadata": {},
   "outputs": [],
   "source": [
    "# Constants here\n",
    "DATA_DIR = \"data\"\n",
    "INPUT_DATA_FILES = os.listdir(DATA_DIR)\n",
    "FILENAME_PLACEHOLDER = \"FILENAME_PLACEHOLDER\"\n",
    "ABSOLUTE_FILE_PATH = f'{DATA_DIR}/{FILENAME_PLACEHOLDER}'\n",
    "\n",
    "NODE_INDEX = [1, 6]\n",
    "IDENTIFIER_INDEX = [3, 8]\n"
   ]
  },
  {
   "cell_type": "code",
   "execution_count": 3,
   "metadata": {},
   "outputs": [],
   "source": [
    "# Function here\n",
    "\n",
    "def read_file_get_data(filename: str):\n",
    "    file_path = ABSOLUTE_FILE_PATH.replace(FILENAME_PLACEHOLDER, filename)\n",
    "    file_obj = open(file_path)\n",
    "    csv_obj = csv.reader(file_obj, delimiter=\"\\t\")\n",
    "    file_data = []\n",
    "    for row in csv_obj:\n",
    "        file_data.append(row)\n",
    "    file_obj.close()\n",
    "    return file_data\n",
    "\n",
    "\n",
    "def generate_node_id(raw_data):\n",
    "    # Column 1 & 6\n",
    "    DIP_ID_TO_NID = {}\n",
    "    NID_TO_PID = {}\n",
    "    for record in raw_data:\n",
    "        DIP_ID_TO_NID[record[NODE_INDEX[0]]] = DIP_ID_TO_NID.get(\n",
    "            record[NODE_INDEX[0]], len(DIP_ID_TO_NID))\n",
    "        DIP_ID_TO_NID[record[NODE_INDEX[1]]] = DIP_ID_TO_NID.get(\n",
    "            record[NODE_INDEX[1]], len(DIP_ID_TO_NID))\n",
    "\n",
    "    for record in raw_data:\n",
    "        NID_TO_PID[DIP_ID_TO_NID[record[NODE_INDEX[0]]]\n",
    "                   ] = record[IDENTIFIER_INDEX[0]]\n",
    "        NID_TO_PID[DIP_ID_TO_NID[record[NODE_INDEX[1]]]\n",
    "                   ] = record[IDENTIFIER_INDEX[1]]\n",
    "\n",
    "    return DIP_ID_TO_NID, NID_TO_PID\n",
    "\n",
    "\n",
    "def preprocess_data(raw_data):\n",
    "    DIP_ID_TO_NID, NID_TO_PID = generate_node_id(raw_data)\n",
    "    edgeList = []\n",
    "    for record in raw_data:\n",
    "        src = DIP_ID_TO_NID[record[NODE_INDEX[0]]]\n",
    "        dst = DIP_ID_TO_NID[record[NODE_INDEX[1]]]\n",
    "        edgeList.append([src, dst])\n",
    "        edgeList.append([dst, src])\n",
    "    return DIP_ID_TO_NID, NID_TO_PID, edgeList\n",
    "\n",
    "\n",
    "def generate_nx_graph(raw_data):\n",
    "    pre_processed_data = preprocess_data(raw_data=raw_data)\n",
    "    DIP_ID_TO_NID, NID_TO_PID, edgeList = preprocess_data(raw_data)\n",
    "    Graph = nx.Graph()\n",
    "    nodes = []\n",
    "    for dip in DIP_ID_TO_NID:\n",
    "        nid = DIP_ID_TO_NID[dip]\n",
    "        pid = NID_TO_PID[nid]\n",
    "        nodes.append((nid, {'pid': pid}))\n",
    "\n",
    "    Graph.add_nodes_from(nodes)\n",
    "    Graph.add_edges_from(edgeList)\n",
    "    return DIP_ID_TO_NID, NID_TO_PID, Graph\n",
    "\n",
    "\n",
    "def procedure():\n",
    "    for filename in INPUT_DATA_FILES:\n",
    "        # get data\n",
    "        raw_data = read_file_get_data(filename=filename)\n",
    "        # generate graph\n",
    "        DIP_ID_TO_NID, NID_TO_PID, Graph = generate_nx_graph(raw_data)\n",
    "        # write to gml file\n",
    "        nx.write_gml(Graph, f\"graphs/{filename}.gml\")\n",
    "        print(filename, \"nodes\", len(Graph.nodes), \"edges\", len(Graph.edges))\n"
   ]
  },
  {
   "cell_type": "code",
   "execution_count": 4,
   "metadata": {},
   "outputs": [
    {
     "name": "stdout",
     "output_type": "stream",
     "text": [
      "Core.tab nodes 2610 edges 6455\n",
      "Full.tab nodes 4753 edges 15262\n"
     ]
    }
   ],
   "source": [
    "# Driver code\n",
    "if __name__=='__main__':\n",
    "\t\n",
    "\tprocedure()"
   ]
  },
  {
   "cell_type": "code",
   "execution_count": null,
   "metadata": {},
   "outputs": [],
   "source": []
  }
 ],
 "metadata": {
  "interpreter": {
   "hash": "916dbcbb3f70747c44a77c7bcd40155683ae19c65e1c03b4aa3499c5328201f1"
  },
  "kernelspec": {
   "display_name": "Python 3 (ipykernel)",
   "language": "python",
   "name": "python3"
  },
  "language_info": {
   "codemirror_mode": {
    "name": "ipython",
    "version": 3
   },
   "file_extension": ".py",
   "mimetype": "text/x-python",
   "name": "python",
   "nbconvert_exporter": "python",
   "pygments_lexer": "ipython3",
   "version": "3.9.0"
  }
 },
 "nbformat": 4,
 "nbformat_minor": 2
}
