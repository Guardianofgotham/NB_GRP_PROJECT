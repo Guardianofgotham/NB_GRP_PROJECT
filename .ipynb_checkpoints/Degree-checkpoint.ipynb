{
 "cells": [
  {
   "cell_type": "code",
   "execution_count": 1,
   "metadata": {},
   "outputs": [],
   "source": [
    "\"\"\"\n",
    "\tThis File is responsible for generating values that \n",
    "\twill be used to create degree distribution plot \n",
    "\"\"\"\n",
    "# Imports here\n",
    "import networkx as nx\n",
    "import os\n",
    "import collections"
   ]
  },
  {
   "cell_type": "code",
   "execution_count": 2,
   "metadata": {},
   "outputs": [],
   "source": [
    "# Constants here\n",
    "GRAPHS_DIR = \"graphs\"\n",
    "GRAPHS_FILENAME = os.listdir(GRAPHS_DIR)\n",
    "\n",
    "FILENAME_PLACEHOLDER = \"FILENAME_PLACEHOLDER\"\n",
    "ABSOLUTE_FILE_PATH = f'{GRAPHS_DIR}/{FILENAME_PLACEHOLDER}'"
   ]
  },
  {
   "cell_type": "code",
   "execution_count": 3,
   "metadata": {},
   "outputs": [],
   "source": [
    "# Functions here\n",
    "\n",
    "def get_output_string(Graph):\n",
    "\n",
    "\tdegrees = sorted([d for n, d in Graph.degree()], reverse=True)\n",
    "\tdegree_count = collections.Counter(degrees)\n",
    "\toutput_string = \"Degree, Count\\n\"\n",
    "\tfor key in degree_count:\n",
    "\t\toutput_string += f\"{key}, {degree_count[key]}\\n\"\n",
    "\t\n",
    "\treturn output_string\n",
    "\n",
    "\n",
    "def procedure():\n",
    "\tfor filename in GRAPHS_FILENAME:\n",
    "\t\t# read file\n",
    "\t\tpath_to_file = ABSOLUTE_FILE_PATH.replace(FILENAME_PLACEHOLDER, filename)\n",
    "\t\tGraph = nx.read_gml(path_to_file)\n",
    "\t\t# write\n",
    "\t\toutput_string = get_output_string(Graph)\n",
    "\t\toutput_file = open(f\"outputs/{filename}.degree.csv\", \"w+\")\n",
    "\t\toutput_file.write(output_string)\n",
    "\t\toutput_file.close()"
   ]
  },
  {
   "cell_type": "code",
   "execution_count": 4,
   "metadata": {},
   "outputs": [],
   "source": [
    "# Driver code here\n",
    "if __name__ == '__main__':\n",
    "\tprocedure()"
   ]
  }
 ],
 "metadata": {
  "interpreter": {
   "hash": "916dbcbb3f70747c44a77c7bcd40155683ae19c65e1c03b4aa3499c5328201f1"
  },
  "kernelspec": {
   "display_name": "Python 3 (ipykernel)",
   "language": "python",
   "name": "python3"
  },
  "language_info": {
   "codemirror_mode": {
    "name": "ipython",
    "version": 3
   },
   "file_extension": ".py",
   "mimetype": "text/x-python",
   "name": "python",
   "nbconvert_exporter": "python",
   "pygments_lexer": "ipython3",
   "version": "3.9.0"
  }
 },
 "nbformat": 4,
 "nbformat_minor": 2
}
