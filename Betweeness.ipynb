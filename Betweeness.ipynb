{
 "cells": [
  {
   "cell_type": "code",
   "execution_count": 5,
   "metadata": {},
   "outputs": [],
   "source": [
    "\"\"\"\n",
    "\tThis File is responsible for generating values that \n",
    "\twill be used to create betweenness vs degree plot \n",
    "\"\"\"\n",
    "# Imports here\n",
    "import networkx as nx\n",
    "import os\n",
    "import collections\n",
    "from statistics import stdev"
   ]
  },
  {
   "cell_type": "code",
   "execution_count": 6,
   "metadata": {},
   "outputs": [],
   "source": [
    "# Constants here\n",
    "GRAPHS_DIR = \"graphs\"\n",
    "GRAPHS_FILENAME = os.listdir(GRAPHS_DIR)\n",
    "\n",
    "FILENAME_PLACEHOLDER = \"FILENAME_PLACEHOLDER\"\n",
    "ABSOLUTE_FILE_PATH = f'{GRAPHS_DIR}/{FILENAME_PLACEHOLDER}'"
   ]
  },
  {
   "cell_type": "code",
   "execution_count": 7,
   "metadata": {},
   "outputs": [],
   "source": [
    "# Functions here\n",
    "\n",
    "def get_output_string(Graph):\n",
    "\n",
    "    betweenness = nx.betweenness_centrality(Graph)\n",
    "    degree = list(Graph.degree)\n",
    "    output_string = \"Degree, Betweenness\\n\"\n",
    "    output_std_dev = \"Degree, stddev\\n\"\n",
    "\n",
    "    d_to_b = dict()\n",
    "\n",
    "    for node_id in betweenness:\n",
    "        output_string += f\"{degree[int(node_id)][1]}, {betweenness[node_id]}\\n\"\n",
    "        bet_list = d_to_b.get(degree[int(node_id)][1], [])\n",
    "        bet_list.append(betweenness[node_id])\n",
    "        if(len(bet_list) == 1):\n",
    "            d_to_b[degree[int(node_id)][1]] = bet_list\n",
    "\n",
    "    for _degree in d_to_b:\n",
    "        if len(d_to_b[_degree]) < 2:\n",
    "            d_to_b[_degree] = [0, 0]\n",
    "        output_std_dev += f\"{_degree}, {stdev(d_to_b[_degree])}\\n\"\n",
    "\n",
    "    return output_string, output_std_dev\n",
    "\n",
    "\n",
    "def procedure():\n",
    "    for filename in GRAPHS_FILENAME:\n",
    "        # read file\n",
    "        path_to_file = ABSOLUTE_FILE_PATH.replace(\n",
    "            FILENAME_PLACEHOLDER, filename)\n",
    "        Graph = nx.read_gml(path_to_file)\n",
    "        # write\n",
    "        output_string, output_std_dev = get_output_string(Graph)\n",
    "        output_file = open(f\"outputs/{filename}.betweenness.csv\", \"w+\")\n",
    "        output_file.write(output_string)\n",
    "        output_file.close()\n",
    "\n",
    "        output_file = open(f\"outputs/{filename}.betweenness.stdev.csv\", \"w+\")\n",
    "        output_file.write(output_std_dev)\n",
    "        output_file.close()\n"
   ]
  },
  {
   "cell_type": "code",
   "execution_count": 8,
   "metadata": {},
   "outputs": [],
   "source": [
    "# Driver code here\n",
    "if __name__ == '__main__':\n",
    "\tprocedure()"
   ]
  }
 ],
 "metadata": {
  "interpreter": {
   "hash": "916dbcbb3f70747c44a77c7bcd40155683ae19c65e1c03b4aa3499c5328201f1"
  },
  "kernelspec": {
   "display_name": "Python 3.8.10 64-bit",
   "language": "python",
   "name": "python3"
  },
  "language_info": {
   "codemirror_mode": {
    "name": "ipython",
    "version": 3
   },
   "file_extension": ".py",
   "mimetype": "text/x-python",
   "name": "python",
   "nbconvert_exporter": "python",
   "pygments_lexer": "ipython3",
   "version": "3.8.10"
  },
  "orig_nbformat": 4
 },
 "nbformat": 4,
 "nbformat_minor": 2
}
